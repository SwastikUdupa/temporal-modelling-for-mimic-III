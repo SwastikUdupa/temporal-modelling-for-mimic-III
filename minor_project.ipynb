{
 "cells": [
  {
   "cell_type": "code",
   "execution_count": 1,
   "metadata": {},
   "outputs": [],
   "source": [
    "import pandas as pd\n",
    "import numpy as np\n",
    "import zipfile\n",
    "\n",
    "df = pd.read_csv('text_data_mimic_iii_sample.csv')\n",
    "# To read entire dataset as zip file.\n",
    "# zf = zipfile.ZipFile('text_data_mimic_iii.csv.zip')\n",
    "# df = pd.read_csv(zf.open('text_data_mimic_iii.csv'))"
   ]
  },
  {
   "cell_type": "code",
   "execution_count": 2,
   "metadata": {},
   "outputs": [],
   "source": [
    "# To get the sample of the entire dataset and store that as csv\n",
    "# x = no of rows you want\n",
    "# df = df.sample(x).to_csv(file_name, encoding='utf-8')"
   ]
  },
  {
   "cell_type": "markdown",
   "metadata": {},
   "source": [
    "We begin to work on the first 10000 data sets in the beginning just to get the structure working"
   ]
  },
  {
   "cell_type": "code",
   "execution_count": 3,
   "metadata": {},
   "outputs": [
    {
     "name": "stdout",
     "output_type": "stream",
     "text": [
      "[[1161046 1161046 1285489 ..., 'SUBDURAL HEMATOMA' 1 1]\n",
      " [1355922 1355922 1276636 ..., 'CORONARY ARTERY DISEASE' 1 1]\n",
      " [1263222 1263222 1737450 ..., 'NEWBORN' 0 1]\n",
      " ..., \n",
      " [1354005 1354005 540197 ..., 'HEMOPTYSIS' 0 1]\n",
      " [1837377 1837377 1897346 ..., 'NEWBORN' 0 1]\n",
      " [608528 608528 1599315 ...,\n",
      "  'ANXIETY\\\\BYPASS FEMORAL PEDAL ARTERY GRAFT; LEFT' 0 1]]\n"
     ]
    }
   ],
   "source": [
    "data = df.as_matrix()\n",
    "print(data)"
   ]
  },
  {
   "cell_type": "code",
   "execution_count": 4,
   "metadata": {},
   "outputs": [
    {
     "name": "stdout",
     "output_type": "stream",
     "text": [
      "0 Unnamed: 0\n",
      "1 Unnamed: 0.1\n",
      "2 ROW_ID_x\n",
      "3 SUBJECT_ID\n",
      "4 HADM_ID\n",
      "5 CHARTDATE\n",
      "6 CHARTTIME\n",
      "7 STORETIME\n",
      "8 CATEGORY\n",
      "9 DESCRIPTION\n",
      "10 CGID\n",
      "11 ISERROR\n",
      "12 TEXT\n",
      "13 ROW_ID_y\n",
      "14 ADMITTIME\n",
      "15 DISCHTIME\n",
      "16 DEATHTIME\n",
      "17 ADMISSION_TYPE\n",
      "18 ADMISSION_LOCATION\n",
      "19 DISCHARGE_LOCATION\n",
      "20 INSURANCE\n",
      "21 LANGUAGE\n",
      "22 RELIGION\n",
      "23 MARITAL_STATUS\n",
      "24 ETHNICITY\n",
      "25 EDREGTIME\n",
      "26 EDOUTTIME\n",
      "27 DIAGNOSIS\n",
      "28 HOSPITAL_EXPIRE_FLAG\n",
      "29 HAS_CHARTEVENTS_DATA\n"
     ]
    }
   ],
   "source": [
    "list(df)\n",
    "for num, col_name in enumerate(df):\n",
    "    print(num, col_name)"
   ]
  },
  {
   "cell_type": "markdown",
   "metadata": {},
   "source": [
    "### SUBJECT_ID, HADM_ID\n",
    "Identifiers which specify the patient: SUBJECT_ID is unique to a patient and HADM_ID is unique to a patient hospital stay.\n",
    "\n",
    "### CG_ID \n",
    "This refers to the ID of the caregivere who made the observation and this is pretty irrelevant to us.\n",
    "\n",
    "### STORE_TIME\n",
    "This refers to the time at which the observation was actually recorded in the EHR. We shall use this time as CHART_TIME is not actually avalaible in the EHR.\n",
    "\n",
    "### CATEGORY, DESCRIPTION\n",
    "CATEGORY and DESCRIPTION define the type of note recorded. For example, a CATEGORY of ‘Discharge’ indicates that the note is a discharge note, and a DESCRIPTION of ‘Summary’ in conjunction with this indicates that the note is a discharge summary\n",
    "\n",
    "### EDREGTIME, EDOUTTIME\n",
    "\n",
    "Time that the patient was registered and discharged from the emergency department\n",
    "\n",
    "### HOSPITAL_EXPIRE_FLG\n",
    "Whether or not the patient deid in the hospital"
   ]
  },
  {
   "cell_type": "markdown",
   "metadata": {},
   "source": [
    "### The columns that we consider are important for the initial part of the project\n",
    "* 2 SUBJECT_ID\n",
    "* 3 HADM_ID\n",
    "* 6 STORETIME\n",
    "* 7 CATEGORY\n",
    "* 8 DESCRIPTION\n",
    "* 11 TEXT\n",
    "* 13 ADMITTIME\n",
    "* 14 DISCHTIME\n",
    "* 15 DEATHTIME\n",
    "* 16 ADMISSION_TYPE\n",
    "* 26 DIAGNOSIS\n",
    "* 27 HOSPITAL_EXPIRE_FLAG"
   ]
  },
  {
   "cell_type": "code",
   "execution_count": 5,
   "metadata": {
    "scrolled": true
   },
   "outputs": [
    {
     "name": "stdout",
     "output_type": "stream",
     "text": [
      "99956 44\n"
     ]
    }
   ],
   "source": [
    "pat_dict = {}\n",
    "# for rows in data:\n",
    "#     pat_id = rows[2]\n",
    "#     pat_dict[pat_id] = pat_dict.get(pat_id, 0)+1\n",
    "#     print(pat_id, pat_dict[pat_id])\n",
    "count = 0\n",
    "count2 = 0\n",
    "for items in (df['ISERROR']):\n",
    "    if pd.isnull(items) == False:\n",
    "        count2 += 1\n",
    "    else:\n",
    "        count += 1\n",
    "print(count, count2)"
   ]
  },
  {
   "cell_type": "code",
   "execution_count": 6,
   "metadata": {},
   "outputs": [],
   "source": [
    "error_data = df[df.ISERROR == 1]\n",
    "df = df[df.ISERROR.isna()]"
   ]
  },
  {
   "cell_type": "markdown",
   "metadata": {},
   "source": [
    "We check the number of data entries that have chart events and the entries that don't."
   ]
  },
  {
   "cell_type": "code",
   "execution_count": 7,
   "metadata": {},
   "outputs": [],
   "source": [
    "patid_set = set()\n",
    "patid = {}\n",
    "for items in data:\n",
    "    patid_set.add(items[2])\n",
    "    patid[items[2]] = patid.get(items[2], 0)+1"
   ]
  },
  {
   "cell_type": "code",
   "execution_count": 8,
   "metadata": {},
   "outputs": [],
   "source": [
    "# Code to check if multiple diagnosis occur for the same patient, if so how many times?\n",
    "pat_diag_dict = {}\n",
    "for items in data:\n",
    "    pat_id = items[2]\n",
    "    diag = items[26]\n",
    "    if pat_id not in pat_diag_dict:\n",
    "        pat_diag_dict[pat_id] = diag\n",
    "    else:\n",
    "        print(pat_diag_dict[pat_id], diag, items[3])\n",
    "        \n",
    "# Hence we conclude that there are cases when we have had different diagnosis for the same pati_id, hadm_id"
   ]
  },
  {
   "cell_type": "code",
   "execution_count": 9,
   "metadata": {},
   "outputs": [
    {
     "name": "stdout",
     "output_type": "stream",
     "text": [
      "{'pat_id': 1285489, 'hospital': [{'diagnosis': [{'time': '2182-06-10 17:28:00', 'diagnosis': '2182-06-09 15:45:00'}], 'stay_id': 1835}]}\n"
     ]
    }
   ],
   "source": [
    "# data = [{\"pat_id\":None}]\n",
    "# data[0]['pat_id'] = 2\n",
    "# data.append({'pat_id':3})\n",
    "# l = 5\n",
    "# desc = [items['pat_id'] for items in data]\n",
    "# if l not in desc:\n",
    "#     data.append({'pat_id':l})\n",
    "# # print(data)\n",
    "pat_set = set()\n",
    "final_structure = []\n",
    "for entry in data:\n",
    "    pat_id = entry[2]\n",
    "    stay_id = entry[3]\n",
    "    diagnosis = entry[26]\n",
    "    store_time = entry[6]\n",
    "    if pat_id not in pat_set:\n",
    "        # then we need to construct a new tuple with the entries\n",
    "        pat_set.add(pat_id)\n",
    "        new_struct = {'pat_id':pat_id, 'hospital':[]}\n",
    "\n",
    "        stay_struct = {'stay_id':stay_id, 'diagnosis':[]} \n",
    "        diagnosis_struct = {'diagnosis':diagnosis, 'time':store_time}\n",
    "        stay_struct['diagnosis'].append(diagnosis_struct)\n",
    "        # we make diagnosis a list cause we might have differnt diagnosis for the same stay\n",
    "        new_struct['hospital'].append(stay_struct)\n",
    "        final_structure.append(new_struct)\n",
    "    else:\n",
    "        for items in final_structure:\n",
    "            if pat_id == items['pat_id']:\n",
    "                diagnosis_struct = {'diagnosis':diagnosis, 'time':store_time}\n",
    "                items['hospital'][0]['diagnosis'].append(diagnosis_struct)\n",
    "        # in this case it means there exists multiple cases of diagnosis for the same pat_id, hamd_id.\n",
    "        \n",
    "final_arr = [data['pat_id'] for data in final_structure]\n",
    "print(final_structure[0])"
   ]
  },
  {
   "cell_type": "code",
   "execution_count": 10,
   "metadata": {
    "scrolled": false
   },
   "outputs": [
    {
     "name": "stdout",
     "output_type": "stream",
     "text": [
      "[100, 29, 30]\n"
     ]
    }
   ],
   "source": [
    "import json\n",
    "\n",
    "r = [{'is_claimed': 'True', 'rating': [100, 29, 30]},{'is_claimed': 'False', 'rating': [10, 2, 30]} ]\n",
    "r = json.dumps(r)\n",
    "loaded_r = json.loads(r)\n",
    "print(loaded_r[0]['rating']) #Output 3.5\n"
   ]
  },
  {
   "cell_type": "code",
   "execution_count": null,
   "metadata": {},
   "outputs": [],
   "source": []
  }
 ],
 "metadata": {
  "kernelspec": {
   "display_name": "Python 3",
   "language": "python",
   "name": "python3"
  },
  "language_info": {
   "codemirror_mode": {
    "name": "ipython",
    "version": 3
   },
   "file_extension": ".py",
   "mimetype": "text/x-python",
   "name": "python",
   "nbconvert_exporter": "python",
   "pygments_lexer": "ipython3",
   "version": "3.5.2"
  }
 },
 "nbformat": 4,
 "nbformat_minor": 2
}
