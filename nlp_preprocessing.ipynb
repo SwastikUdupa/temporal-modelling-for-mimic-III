{
 "cells": [
  {
   "cell_type": "code",
   "execution_count": 1,
   "metadata": {},
   "outputs": [
    {
     "ename": "ImportError",
     "evalue": "No module named 'nltk'",
     "output_type": "error",
     "traceback": [
      "\u001b[0;31m---------------------------------------------------------------------------\u001b[0m",
      "\u001b[0;31mImportError\u001b[0m                               Traceback (most recent call last)",
      "\u001b[0;32m<ipython-input-1-4c6afd5a8d1b>\u001b[0m in \u001b[0;36m<module>\u001b[0;34m()\u001b[0m\n\u001b[1;32m      1\u001b[0m \u001b[0;32mimport\u001b[0m \u001b[0mpandas\u001b[0m \u001b[0;32mas\u001b[0m \u001b[0mpd\u001b[0m\u001b[0;34m\u001b[0m\u001b[0m\n\u001b[1;32m      2\u001b[0m \u001b[0;32mimport\u001b[0m \u001b[0mnumpy\u001b[0m \u001b[0;32mas\u001b[0m \u001b[0mnp\u001b[0m\u001b[0;34m\u001b[0m\u001b[0m\n\u001b[0;32m----> 3\u001b[0;31m \u001b[0;32mimport\u001b[0m \u001b[0mnltk\u001b[0m\u001b[0;34m\u001b[0m\u001b[0m\n\u001b[0m\u001b[1;32m      4\u001b[0m \u001b[0;34m\u001b[0m\u001b[0m\n\u001b[1;32m      5\u001b[0m \u001b[0mdf\u001b[0m \u001b[0;34m=\u001b[0m \u001b[0mpd\u001b[0m\u001b[0;34m.\u001b[0m\u001b[0mread_csv\u001b[0m\u001b[0;34m(\u001b[0m\u001b[0;34m'text_data_mimic_iii_sample.csv'\u001b[0m\u001b[0;34m)\u001b[0m\u001b[0;34m\u001b[0m\u001b[0m\n",
      "\u001b[0;31mImportError\u001b[0m: No module named 'nltk'"
     ]
    }
   ],
   "source": [
    "import pandas as pd\n",
    "import numpy as np\n",
    "import nltk\n",
    "\n",
    "df = pd.read_csv('text_data_mimic_iii_sample.csv')"
   ]
  },
  {
   "cell_type": "code",
   "execution_count": 7,
   "metadata": {},
   "outputs": [
    {
     "name": "stdout",
     "output_type": "stream",
     "text": [
      "[[1161046 1161046 1285489 ..., 'SUBDURAL HEMATOMA' 1 1]\n",
      " [1355922 1355922 1276636 ..., 'CORONARY ARTERY DISEASE' 1 1]\n",
      " [1263222 1263222 1737450 ..., 'NEWBORN' 0 1]\n",
      " ..., \n",
      " [1354005 1354005 540197 ..., 'HEMOPTYSIS' 0 1]\n",
      " [1837377 1837377 1897346 ..., 'NEWBORN' 0 1]\n",
      " [608528 608528 1599315 ...,\n",
      "  'ANXIETY\\\\BYPASS FEMORAL PEDAL ARTERY GRAFT; LEFT' 0 1]]\n"
     ]
    }
   ],
   "source": [
    "data = df.as_matrix()\n",
    "print(data)\n",
    "error_data = df[df.ISERROR == 1]\n",
    "df = df[df.ISERROR.isna()]"
   ]
  },
  {
   "cell_type": "code",
   "execution_count": 8,
   "metadata": {},
   "outputs": [
    {
     "name": "stdout",
     "output_type": "stream",
     "text": [
      "0 Unnamed: 0\n",
      "1 Unnamed: 0.1\n",
      "2 ROW_ID_x\n",
      "3 SUBJECT_ID\n",
      "4 HADM_ID\n",
      "5 CHARTDATE\n",
      "6 CHARTTIME\n",
      "7 STORETIME\n",
      "8 CATEGORY\n",
      "9 DESCRIPTION\n",
      "10 CGID\n",
      "11 ISERROR\n",
      "12 TEXT\n",
      "13 ROW_ID_y\n",
      "14 ADMITTIME\n",
      "15 DISCHTIME\n",
      "16 DEATHTIME\n",
      "17 ADMISSION_TYPE\n",
      "18 ADMISSION_LOCATION\n",
      "19 DISCHARGE_LOCATION\n",
      "20 INSURANCE\n",
      "21 LANGUAGE\n",
      "22 RELIGION\n",
      "23 MARITAL_STATUS\n",
      "24 ETHNICITY\n",
      "25 EDREGTIME\n",
      "26 EDOUTTIME\n",
      "27 DIAGNOSIS\n",
      "28 HOSPITAL_EXPIRE_FLAG\n",
      "29 HAS_CHARTEVENTS_DATA\n"
     ]
    }
   ],
   "source": [
    "list(df)\n",
    "for num, col_name in enumerate(df):\n",
    "    print(num, col_name)"
   ]
  },
  {
   "cell_type": "code",
   "execution_count": 49,
   "metadata": {},
   "outputs": [
    {
     "data": {
      "text/plain": [
       "\"NPN 1900-0700\\n\\n\\nResp: Remains in NCO2, 100%, 25cc flow. RR 40-60's. Lungs\\nclear/=. Mild sc retractions. Sat>96%. No spells thus far\\nthis shift. P: Continue to monitor and support as needed.\\n\\nFEN: Weight 2030g, +10gms. TF= 150cc/kg/day of BM26, = 51cc\\nQ4hrs, PG, Gavaged over one hour and tolerating well thus\\nfar. No spits and minimal aspirates. Abdomen exam is benign.\\n+BS, soft, [** **], no loops. AG stable at 25cm. Voiding well.\\nStooling heme(-). On Iron and Vitamin E. Nutrition [** **] and\\nHct/retic sent, as ordered, see CCC for results. P: Continue\\nto monitor and support w/ urrent feeding regimen as tol.\\n\\nDEV: Remains swaddled with hat and ex blanket, in OAC. Temps\\nare stable. HOB up. A&A w/ cares and sleeps soundly in btwn.\\nDoes not wake on own for feeds. Brings hands to face, and\\nsucks well on pacifier to comfort self. AFSF. MAEW. AGA. P:\\nCOntinue to monitor and promote optimal G&D.\\n\\nFamily: No contact from [**Name2 (NI) **] thus far this shift.\\n\\nPlease see flowsheet for further details.\\n\\n\\n\\n\\n\""
      ]
     },
     "execution_count": 49,
     "metadata": {},
     "output_type": "execute_result"
    }
   ],
   "source": [
    "# df.TEXT()\n",
    "# np.random.seed only for debugging\n",
    "np.random.seed(0)\n",
    "df.TEXT[np.random.randint(len(df.TEXT))]"
   ]
  },
  {
   "cell_type": "code",
   "execution_count": null,
   "metadata": {},
   "outputs": [],
   "source": []
  }
 ],
 "metadata": {
  "kernelspec": {
   "display_name": "Python 3",
   "language": "python",
   "name": "python3"
  },
  "language_info": {
   "codemirror_mode": {
    "name": "ipython",
    "version": 3
   },
   "file_extension": ".py",
   "mimetype": "text/x-python",
   "name": "python",
   "nbconvert_exporter": "python",
   "pygments_lexer": "ipython3",
   "version": "3.5.2"
  }
 },
 "nbformat": 4,
 "nbformat_minor": 2
}
